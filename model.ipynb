{
 "cells": [
  {
   "cell_type": "markdown",
   "id": "8410b349-ec50-4116-baf7-eb0ddf593458",
   "metadata": {
    "extensions": {
     "jupyter_dashboards": {
      "activeView": "grid_default",
      "views": {
       "grid_default": {
        "col": 0,
        "height": 5,
        "hidden": true,
        "row": 0,
        "width": 12
       }
      }
     }
    },
    "tags": []
   },
   "source": [
    "# <span style=\"color:orange\">Modelo </span>de Classificação para IRIS\n",
    "- - -\n",
    "Após a análise exploratória do dataset IRIS, este notebook tem como objetivo utilizar modelos de Machine Learning para classificação.\n",
    "\n",
    "Por tratar-se de um problema **supervisionado**, onde cada amostra tem um rótulo que especifica sua classe, é necessário a escolha de modelos que possam classificar os dados e retornar uma classe.\n",
    "\n",
    "Os modelos escolhidos nesse desenvolvimento foram: **SVM** e **Gaussian Naive Bayes**."
   ]
  },
  {
   "cell_type": "code",
   "execution_count": 9,
   "id": "a489d0a7-f074-40d2-b780-0074350e7f65",
   "metadata": {
    "extensions": {
     "jupyter_dashboards": {
      "activeView": "grid_default",
      "views": {
       "grid_default": {
        "col": null,
        "height": 2,
        "hidden": true,
        "row": null,
        "width": 2
       }
      }
     }
    }
   },
   "outputs": [],
   "source": [
    "%%capture\n",
    "%run dataset.ipynb\n",
    "df = data.join(target)\n",
    "from sklearn.model_selection import train_test_split\n",
    "from sklearn import svm\n",
    "from sklearn.naive_bayes import GaussianNB\n",
    "from sklearn import metrics\n",
    "from sklearn.metrics import confusion_matrix\n",
    "import numpy as np\n",
    "from scipy import stats"
   ]
  },
  {
   "cell_type": "markdown",
   "id": "d43ae47c-5fbc-4e9d-8753-6f43a8955aad",
   "metadata": {
    "extensions": {
     "jupyter_dashboards": {
      "activeView": "grid_default",
      "views": {
       "grid_default": {
        "col": 0,
        "height": 3,
        "hidden": true,
        "row": 5,
        "width": 12
       }
      }
     }
    }
   },
   "source": [
    "## <span style=\"color:orange\">1. </span> Preparando a amostragem para o treinamento\n",
    "\n",
    "Para utilização dos modelos, é necessário que os dataset esteja dividido em 2 partes, sendo uma para o treinamento e outra para o teste.\n",
    "\n",
    "O código a seguir faz a separação de **60%** para o treinamento e **30%** para o teste."
   ]
  },
  {
   "cell_type": "code",
   "execution_count": 10,
   "id": "eb61802b-ecbc-4dfc-ab15-52b1a84d781f",
   "metadata": {
    "extensions": {
     "jupyter_dashboards": {
      "activeView": "grid_default",
      "views": {
       "grid_default": {
        "col": null,
        "height": 2,
        "hidden": true,
        "row": null,
        "width": 2
       }
      }
     }
    }
   },
   "outputs": [
    {
     "name": "stdout",
     "output_type": "stream",
     "text": [
      "Tamanho de train_x: 105\n",
      "Tamanho de test_x: 45\n"
     ]
    }
   ],
   "source": [
    "train_x,test_x,train_y,test_y = train_test_split(data, target.drop(\"target_names\", axis=1), test_size=.3)\n",
    "print(f\"Tamanho de train_x: {len(train_x)}\")\n",
    "print(f\"Tamanho de test_x: {len(test_x)}\")"
   ]
  },
  {
   "cell_type": "markdown",
   "id": "fed41452-f5f8-4e25-99a1-7117a2cb71f4",
   "metadata": {
    "extensions": {
     "jupyter_dashboards": {
      "activeView": "grid_default",
      "views": {
       "grid_default": {
        "col": null,
        "height": 2,
        "hidden": true,
        "row": null,
        "width": 2
       }
      }
     }
    }
   },
   "source": [
    "# <span style=\"color:orange\">2. </span> Modelos de Machine Learning para Classificação Supervisionada\n",
    "\n",
    "## <span style=\"color:orange\">2.1. </span> Support Vector Machine\n",
    "\n",
    "A técnica de *support vector machine* **SVM** é um modelo de *Machine Learning* supervisionado que possibilita a classificação da amostragem. O *Suppot Vector Classifier* **SVC** é uma implementação da técnica de SVM.\n",
    "\n",
    "- - -\n",
    "\n",
    "### <span style=\"color:orange\">2.1.1. </span> Resultado\n",
    "\n",
    "> **A Acurácia do modelo SVM foi de 98%**\n"
   ]
  },
  {
   "cell_type": "code",
   "execution_count": 11,
   "id": "c50f22f1-828c-45e3-bf28-af9f3a5e4ee3",
   "metadata": {
    "extensions": {
     "jupyter_dashboards": {
      "activeView": "grid_default",
      "views": {
       "grid_default": {
        "col": null,
        "height": 2,
        "hidden": true,
        "row": null,
        "width": 2
       }
      }
     }
    }
   },
   "outputs": [
    {
     "name": "stdout",
     "output_type": "stream",
     "text": [
      "A Acurácia do modelo SVM:0.93\n"
     ]
    },
    {
     "name": "stderr",
     "output_type": "stream",
     "text": [
      "/home/lsanche/anaconda3/envs/IRIS/lib/python3.9/site-packages/sklearn/utils/validation.py:985: DataConversionWarning: A column-vector y was passed when a 1d array was expected. Please change the shape of y to (n_samples, ), for example using ravel().\n",
      "  y = column_or_1d(y, warn=True)\n"
     ]
    }
   ],
   "source": [
    "model = svm.SVC()\n",
    "model.fit(train_x,train_y)\n",
    "prediction=model.predict(test_x)\n",
    "print(f'A Acurácia do modelo SVM:{round(metrics.accuracy_score(prediction,test_y),2)}')"
   ]
  },
  {
   "cell_type": "markdown",
   "id": "9661e16b-1680-4928-9b6e-009a49b9ab40",
   "metadata": {
    "extensions": {
     "jupyter_dashboards": {
      "activeView": "grid_default",
      "views": {
       "grid_default": {
        "col": null,
        "height": 2,
        "hidden": true,
        "row": null,
        "width": 2
       }
      }
     }
    }
   },
   "source": [
    "### <span style=\"color:orange\">2.1.2. </span> Matriz de Confusão\n",
    "\n",
    "A matriz de confusão tem como objetivo apontar os acertos e erros do modelo em relação as classes. \n",
    "\n",
    "**Note que**:\n",
    "\n",
    "> **Setosa** e **Versicolor** foram classificados corretamente\n",
    "\n",
    "> A única classificação errada foi uma **Virgínica** classificada como **Versicolor**.\n",
    "\n",
    "\n",
    "**O modelo de SVM tem um ótimo desempenho para esse conjunto de dados.**"
   ]
  },
  {
   "cell_type": "code",
   "execution_count": 12,
   "id": "a9e08530-ad53-4664-b029-81cc1b091eab",
   "metadata": {
    "extensions": {
     "jupyter_dashboards": {
      "activeView": "grid_default",
      "views": {
       "grid_default": {
        "col": null,
        "height": 2,
        "hidden": true,
        "row": null,
        "width": 2
       }
      }
     }
    }
   },
   "outputs": [],
   "source": [
    "matrix = confusion_matrix(np.array(test_y['target']), prediction, labels=[0, 1, 2])"
   ]
  },
  {
   "cell_type": "markdown",
   "id": "6fb2d3d5-c281-4256-b0ce-4c6436af6814",
   "metadata": {
    "extensions": {
     "jupyter_dashboards": {
      "activeView": "grid_default",
      "views": {
       "grid_default": {
        "col": null,
        "height": 2,
        "hidden": true,
        "row": null,
        "width": 2
       }
      }
     }
    }
   },
   "source": [
    "**Matriz de Confusão**\n",
    "\n",
    "|            | Setosa | Versicolor | Virgínica |\n",
    "|------------|--------|------------|-----------|\n",
    "| Setosa     | 19     | 0          | 0         |\n",
    "| Versicolor | 0      | 13         | 1         |\n",
    "| Virgínica  | 0      | 0          | 12        |\n",
    "\n",
    "- - -"
   ]
  },
  {
   "cell_type": "markdown",
   "id": "c268a3cb-8d14-4385-9f0b-96a96e28267b",
   "metadata": {
    "extensions": {
     "jupyter_dashboards": {
      "activeView": "grid_default",
      "views": {
       "grid_default": {
        "col": null,
        "height": 2,
        "hidden": true,
        "row": null,
        "width": 2
       }
      }
     }
    }
   },
   "source": [
    "## <span style=\"color:orange\">2.2. </span> Modelo Gaussian Naive Bayes\n",
    "\n",
    "Uma vez que este dataset trata-se de um problema supervisionado, onde os valores **target** são categóricos, o modelo **Gaussian Naive Bayes** se ajusta bem ao problema, pois este trata as variáveis de maneira independente. Porém, para utilização do modelo precisamos testar se a **distribuição dos dados é Normal (Gaussiana)**.\n",
    "\n",
    "### <span style=\"color:orange\">2.2.1. </span> Teste de Shapiro\n",
    "O teste de Shapiro diz se amostragem vem de uma distribuição normal.\n",
    "\n",
    "Quanto mais próximo o valor **statistic for de 1** ou **pvalue > 0.05**, há mais chances da amostra vir de uma distribuição Gaussiana.\n",
    "\n",
    "### <span style=\"color:orange\">2.2.2. </span> Resultado do teste de Shapiro\n",
    "\n",
    "> **statistic = 0.96** e **pvalue é muito próximo de 0**\n",
    "\n",
    "O resultado indica que provavelmente a distribuição da amostragem é Gaussiana, assim podemos utilizar o modelo **GaussianNB**.\n",
    "\n",
    "Uma vez que a distribuição é normal, não será necessária a transformação de escala da amostragem."
   ]
  },
  {
   "cell_type": "code",
   "execution_count": 13,
   "id": "fedd5e7c-142d-4499-87d1-1376f8de6fa4",
   "metadata": {
    "extensions": {
     "jupyter_dashboards": {
      "activeView": "grid_default",
      "views": {
       "grid_default": {
        "col": null,
        "height": 2,
        "hidden": true,
        "row": null,
        "width": 2
       }
      }
     }
    }
   },
   "outputs": [
    {
     "data": {
      "text/plain": [
       "ShapiroResult(statistic=0.9662262201309204, pvalue=2.9484546359981323e-08)"
      ]
     },
     "execution_count": 5,
     "metadata": {},
     "output_type": "execute_result"
    }
   ],
   "source": [
    "shapiro_wilk = np.array(train_x)\n",
    "stats.shapiro(shapiro_wilk)"
   ]
  },
  {
   "cell_type": "markdown",
   "id": "42059b93-552c-44fb-b8b6-24c9118eb452",
   "metadata": {
    "extensions": {
     "jupyter_dashboards": {
      "activeView": "grid_default",
      "views": {
       "grid_default": {
        "col": null,
        "height": 2,
        "hidden": true,
        "row": null,
        "width": 2
       }
      }
     }
    }
   },
   "source": [
    "## <span style=\"color:orange\">2.3. </span> GaussianNB\n",
    "\n",
    "O código a seguir faz o treinamento do modelo de GaussianNB para o dataset em questão."
   ]
  },
  {
   "cell_type": "code",
   "execution_count": 14,
   "id": "8af8266e-8023-422a-97e8-c5008a0bb62b",
   "metadata": {
    "extensions": {
     "jupyter_dashboards": {
      "activeView": "grid_default",
      "views": {
       "grid_default": {
        "col": null,
        "height": 2,
        "hidden": true,
        "row": null,
        "width": 2
       }
      }
     }
    }
   },
   "outputs": [
    {
     "name": "stderr",
     "output_type": "stream",
     "text": [
      "/home/lsanche/anaconda3/envs/IRIS/lib/python3.9/site-packages/sklearn/utils/validation.py:985: DataConversionWarning: A column-vector y was passed when a 1d array was expected. Please change the shape of y to (n_samples, ), for example using ravel().\n",
      "  y = column_or_1d(y, warn=True)\n"
     ]
    }
   ],
   "source": [
    "Gnb = GaussianNB()\n",
    "Gnb.fit(train_x,train_y)\n",
    "y_pred = model.predict(test_x)"
   ]
  },
  {
   "cell_type": "markdown",
   "id": "571aa03d-feea-485b-aa4e-b9e676ee41cf",
   "metadata": {
    "extensions": {
     "jupyter_dashboards": {
      "activeView": "grid_default",
      "views": {
       "grid_default": {
        "col": null,
        "height": 2,
        "hidden": true,
        "row": null,
        "width": 2
       }
      }
     }
    }
   },
   "source": [
    "### <span style=\"color:orange\">2.3.1. </span> Resultados\n",
    "\n",
    "O Resultado do modelo foi muito parecido com a técnica de SVM. A acurácia e a matriz de confusão acusam o mesmo resultado."
   ]
  },
  {
   "cell_type": "code",
   "execution_count": 15,
   "id": "1c7ac0b1-2e8c-4b90-9f5a-ea88f583d1e9",
   "metadata": {
    "extensions": {
     "jupyter_dashboards": {
      "activeView": "grid_default",
      "views": {
       "grid_default": {
        "col": null,
        "height": 2,
        "hidden": true,
        "row": null,
        "width": 2
       }
      }
     }
    }
   },
   "outputs": [
    {
     "name": "stdout",
     "output_type": "stream",
     "text": [
      "A Acurácia do modelo GaussianNB:0.93\n"
     ]
    },
    {
     "data": {
      "text/plain": [
       "array([[16,  0,  0],\n",
       "       [ 0, 10,  0],\n",
       "       [ 0,  3, 16]])"
      ]
     },
     "execution_count": 7,
     "metadata": {},
     "output_type": "execute_result"
    }
   ],
   "source": [
    "print(f'A Acurácia do modelo GaussianNB:{round(model.score(test_x,test_y),2)}')\n",
    "matrix = confusion_matrix(np.array(test_y['target']), y_pred, labels=[0, 1, 2])\n",
    "matrix"
   ]
  },
  {
   "cell_type": "markdown",
   "id": "c66fbd38-3bc2-407c-8222-b16d7ab327c1",
   "metadata": {
    "extensions": {
     "jupyter_dashboards": {
      "activeView": "grid_default",
      "views": {
       "grid_default": {
        "col": null,
        "height": 2,
        "hidden": true,
        "row": null,
        "width": 2
       }
      }
     }
    }
   },
   "source": [
    "# <span style=\"color:orange\">3. </span>Conclusão\n",
    "\n",
    "Foram testados 2 modelos de Machine Learning para esta amostragem e ambas obtiveram os mesmo resultados. Os modelos escolhidos se ajustam muito bem ao problema, sendo o **SVM** uma técnica interessante para casos de classificação onde a amostragem pode ter dependências não-lineares e o **GaussianNB** que se ajusta muito bem para dados com distribuição Gaussiana e problemas da vida real."
   ]
  }
 ],
 "metadata": {
  "extensions": {
   "jupyter_dashboards": {
    "activeView": "grid_default",
    "version": 1,
    "views": {
     "grid_default": {
      "cellMargin": 2,
      "defaultCellHeight": 60,
      "maxColumns": 12,
      "name": "grid",
      "type": "grid"
     }
    }
   }
  },
  "kernelspec": {
   "display_name": "Python 3 (ipykernel)",
   "language": "python",
   "name": "python3"
  },
  "language_info": {
   "codemirror_mode": {
    "name": "ipython",
    "version": 3
   },
   "file_extension": ".py",
   "mimetype": "text/x-python",
   "name": "python",
   "nbconvert_exporter": "python",
   "pygments_lexer": "ipython3",
   "version": "3.9.7"
  }
 },
 "nbformat": 4,
 "nbformat_minor": 5
}
